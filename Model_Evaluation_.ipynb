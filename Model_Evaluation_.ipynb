{
  "nbformat": 4,
  "nbformat_minor": 0,
  "metadata": {
    "colab": {
      "provenance": [],
      "authorship_tag": "ABX9TyMSaAsi4lbWD2vusqAjh5Bf"
    },
    "kernelspec": {
      "name": "python3",
      "display_name": "Python 3"
    },
    "language_info": {
      "name": "python"
    }
  },
  "cells": [
    {
      "cell_type": "markdown",
      "source": [
        "# Model Evaluation and Selection for Classification"
      ],
      "metadata": {
        "id": "tB6eIutzxfc5"
      }
    },
    {
      "cell_type": "markdown",
      "source": [
        "We will use different evaluation strategies for an imbalanced classification problem. We will use the digits dataset for this task and modify it to create an imbalanced dataset. We will also look at what dummy classifiers are and how they can be used to improve the model."
      ],
      "metadata": {
        "id": "EUDoWgO-xw4h"
      }
    },
    {
      "cell_type": "code",
      "execution_count": null,
      "metadata": {
        "id": "4GDaUhoBxUlD"
      },
      "outputs": [],
      "source": [
        "import numpy as np\n",
        "import pandas as pd\n",
        "import matplotlib.pyplot as plt\n",
        "import seaborn as sns\n",
        "import sklearn\n",
        "from sklearn.datasets import load_digits\n",
        "from sklearn.model_selection import train_test_split"
      ]
    },
    {
      "cell_type": "code",
      "source": [
        "digits =load_digits()\n",
        "X=digits.data\n",
        "y=digits.target\n",
        "\n",
        "for class_name, class_count in zip(digits.target_names,np.bincount(digits.target)):\n",
        "  print(class_name,class_count)"
      ],
      "metadata": {
        "colab": {
          "base_uri": "https://localhost:8080/"
        },
        "id": "k1WtaxTYGqgZ",
        "outputId": "624eca7e-b42d-43dc-97aa-2b6d96aec232"
      },
      "execution_count": null,
      "outputs": [
        {
          "output_type": "stream",
          "name": "stdout",
          "text": [
            "0 178\n",
            "1 182\n",
            "2 177\n",
            "3 183\n",
            "4 181\n",
            "5 182\n",
            "6 181\n",
            "7 179\n",
            "8 174\n",
            "9 180\n"
          ]
        }
      ]
    },
    {
      "cell_type": "code",
      "source": [
        "# Creating an imbalanced dataset\n",
        "# Negative class (0) is 'not digit 1'\n",
        "# Positive class (1) is 'digit 1'\n",
        "\n",
        "y_binary_imbalanced = y.copy()\n",
        "y_binary_imbalanced[y_binary_imbalanced != 1] = 0\n",
        "\n",
        "print('Original labels:\\t', y[1:30])\n",
        "print('New binary labels:\\t', y_binary_imbalanced[1:30])"
      ],
      "metadata": {
        "colab": {
          "base_uri": "https://localhost:8080/"
        },
        "id": "Kw3G6yFCIv2y",
        "outputId": "77b316a2-71be-420b-9183-6b6a90ce9a7d"
      },
      "execution_count": null,
      "outputs": [
        {
          "output_type": "stream",
          "name": "stdout",
          "text": [
            "Original labels:\t [1 2 3 4 5 6 7 8 9 0 1 2 3 4 5 6 7 8 9 0 1 2 3 4 5 6 7 8 9]\n",
            "New binary labels:\t [1 0 0 0 0 0 0 0 0 0 1 0 0 0 0 0 0 0 0 0 1 0 0 0 0 0 0 0 0]\n"
          ]
        }
      ]
    },
    {
      "cell_type": "code",
      "source": [
        "np.bincount(y_binary_imbalanced)"
      ],
      "metadata": {
        "colab": {
          "base_uri": "https://localhost:8080/"
        },
        "id": "BvIP9M5lKFNp",
        "outputId": "9919ba17-3863-4ba3-aa19-594c61982870"
      },
      "execution_count": null,
      "outputs": [
        {
          "output_type": "execute_result",
          "data": {
            "text/plain": [
              "array([1615,  182])"
            ]
          },
          "metadata": {},
          "execution_count": 38
        }
      ]
    },
    {
      "cell_type": "code",
      "source": [
        "y_binary_imbalanced"
      ],
      "metadata": {
        "colab": {
          "base_uri": "https://localhost:8080/"
        },
        "id": "d7WQ2h90Lq0q",
        "outputId": "7ee395a2-233b-4d79-dd56-57da15b45be2"
      },
      "execution_count": null,
      "outputs": [
        {
          "output_type": "execute_result",
          "data": {
            "text/plain": [
              "array([0, 1, 0, ..., 0, 0, 0])"
            ]
          },
          "metadata": {},
          "execution_count": 23
        }
      ]
    },
    {
      "cell_type": "code",
      "source": [
        "X_train, X_test, y_train, y_test = train_test_split(X,y_binary_imbalanced,random_state=0)\n",
        "\n",
        "from sklearn.svm import SVC\n",
        "\n",
        "clf = SVC(kernel='rbf',C=1).fit(X_train, y_train)\n",
        "clf.score(X_test,y_test)"
      ],
      "metadata": {
        "colab": {
          "base_uri": "https://localhost:8080/"
        },
        "id": "HYfR11h2KJQi",
        "outputId": "1fa508d0-34db-450e-f842-dcf377a584b0"
      },
      "execution_count": null,
      "outputs": [
        {
          "output_type": "execute_result",
          "data": {
            "text/plain": [
              "0.9955555555555555"
            ]
          },
          "metadata": {},
          "execution_count": 39
        }
      ]
    },
    {
      "cell_type": "code",
      "source": [
        "from sklearn.linear_model import LogisticRegression\n",
        "lclf = LogisticRegression().fit(X_train,y_train)\n",
        "lclf.score(X_test,y_test)"
      ],
      "metadata": {
        "colab": {
          "base_uri": "https://localhost:8080/"
        },
        "id": "ArSzEcbfOoJq",
        "outputId": "83fe65ee-4cea-4bef-b5ef-4f8b795b7826"
      },
      "execution_count": null,
      "outputs": [
        {
          "output_type": "stream",
          "name": "stderr",
          "text": [
            "/usr/local/lib/python3.10/dist-packages/sklearn/linear_model/_logistic.py:458: ConvergenceWarning: lbfgs failed to converge (status=1):\n",
            "STOP: TOTAL NO. of ITERATIONS REACHED LIMIT.\n",
            "\n",
            "Increase the number of iterations (max_iter) or scale the data as shown in:\n",
            "    https://scikit-learn.org/stable/modules/preprocessing.html\n",
            "Please also refer to the documentation for alternative solver options:\n",
            "    https://scikit-learn.org/stable/modules/linear_model.html#logistic-regression\n",
            "  n_iter_i = _check_optimize_result(\n"
          ]
        },
        {
          "output_type": "execute_result",
          "data": {
            "text/plain": [
              "0.9688888888888889"
            ]
          },
          "metadata": {},
          "execution_count": 40
        }
      ]
    },
    {
      "cell_type": "code",
      "source": [
        "clfls = SVC(kernel='linear',C=1).fit(X_train,y_train)\n",
        "clfls.score(X_test,y_test)"
      ],
      "metadata": {
        "colab": {
          "base_uri": "https://localhost:8080/"
        },
        "id": "ytaWqgJkPCNt",
        "outputId": "4c834c7d-e7b7-4b4f-8b5f-bd2f5603287b"
      },
      "execution_count": null,
      "outputs": [
        {
          "output_type": "execute_result",
          "data": {
            "text/plain": [
              "0.9777777777777777"
            ]
          },
          "metadata": {},
          "execution_count": 41
        }
      ]
    },
    {
      "cell_type": "markdown",
      "source": [
        "## Dummy Classifier"
      ],
      "metadata": {
        "id": "HFMzuI9yP3v2"
      }
    },
    {
      "cell_type": "code",
      "source": [
        "from sklearn.dummy import DummyClassifier\n",
        "dclf= DummyClassifier(strategy='most_frequent').fit(X_train,y_train)\n",
        "dclf.score(X_test,y_test)"
      ],
      "metadata": {
        "colab": {
          "base_uri": "https://localhost:8080/"
        },
        "id": "6wo_mejmP3Oi",
        "outputId": "b29a4ddd-f0b2-4015-b773-6ff22c7ecf67"
      },
      "execution_count": null,
      "outputs": [
        {
          "output_type": "execute_result",
          "data": {
            "text/plain": [
              "0.9044444444444445"
            ]
          },
          "metadata": {},
          "execution_count": 42
        }
      ]
    },
    {
      "cell_type": "code",
      "source": [
        "y_dummy_pred=dclf.predict(X_test)\n",
        "y_dummy_pred"
      ],
      "metadata": {
        "colab": {
          "base_uri": "https://localhost:8080/"
        },
        "id": "1qjTAmNKQ4HF",
        "outputId": "5fb5d38a-6f73-4e7b-f037-2563410e6538"
      },
      "execution_count": null,
      "outputs": [
        {
          "output_type": "execute_result",
          "data": {
            "text/plain": [
              "array([0, 0, 0, 0, 0, 0, 0, 0, 0, 0, 0, 0, 0, 0, 0, 0, 0, 0, 0, 0, 0, 0,\n",
              "       0, 0, 0, 0, 0, 0, 0, 0, 0, 0, 0, 0, 0, 0, 0, 0, 0, 0, 0, 0, 0, 0,\n",
              "       0, 0, 0, 0, 0, 0, 0, 0, 0, 0, 0, 0, 0, 0, 0, 0, 0, 0, 0, 0, 0, 0,\n",
              "       0, 0, 0, 0, 0, 0, 0, 0, 0, 0, 0, 0, 0, 0, 0, 0, 0, 0, 0, 0, 0, 0,\n",
              "       0, 0, 0, 0, 0, 0, 0, 0, 0, 0, 0, 0, 0, 0, 0, 0, 0, 0, 0, 0, 0, 0,\n",
              "       0, 0, 0, 0, 0, 0, 0, 0, 0, 0, 0, 0, 0, 0, 0, 0, 0, 0, 0, 0, 0, 0,\n",
              "       0, 0, 0, 0, 0, 0, 0, 0, 0, 0, 0, 0, 0, 0, 0, 0, 0, 0, 0, 0, 0, 0,\n",
              "       0, 0, 0, 0, 0, 0, 0, 0, 0, 0, 0, 0, 0, 0, 0, 0, 0, 0, 0, 0, 0, 0,\n",
              "       0, 0, 0, 0, 0, 0, 0, 0, 0, 0, 0, 0, 0, 0, 0, 0, 0, 0, 0, 0, 0, 0,\n",
              "       0, 0, 0, 0, 0, 0, 0, 0, 0, 0, 0, 0, 0, 0, 0, 0, 0, 0, 0, 0, 0, 0,\n",
              "       0, 0, 0, 0, 0, 0, 0, 0, 0, 0, 0, 0, 0, 0, 0, 0, 0, 0, 0, 0, 0, 0,\n",
              "       0, 0, 0, 0, 0, 0, 0, 0, 0, 0, 0, 0, 0, 0, 0, 0, 0, 0, 0, 0, 0, 0,\n",
              "       0, 0, 0, 0, 0, 0, 0, 0, 0, 0, 0, 0, 0, 0, 0, 0, 0, 0, 0, 0, 0, 0,\n",
              "       0, 0, 0, 0, 0, 0, 0, 0, 0, 0, 0, 0, 0, 0, 0, 0, 0, 0, 0, 0, 0, 0,\n",
              "       0, 0, 0, 0, 0, 0, 0, 0, 0, 0, 0, 0, 0, 0, 0, 0, 0, 0, 0, 0, 0, 0,\n",
              "       0, 0, 0, 0, 0, 0, 0, 0, 0, 0, 0, 0, 0, 0, 0, 0, 0, 0, 0, 0, 0, 0,\n",
              "       0, 0, 0, 0, 0, 0, 0, 0, 0, 0, 0, 0, 0, 0, 0, 0, 0, 0, 0, 0, 0, 0,\n",
              "       0, 0, 0, 0, 0, 0, 0, 0, 0, 0, 0, 0, 0, 0, 0, 0, 0, 0, 0, 0, 0, 0,\n",
              "       0, 0, 0, 0, 0, 0, 0, 0, 0, 0, 0, 0, 0, 0, 0, 0, 0, 0, 0, 0, 0, 0,\n",
              "       0, 0, 0, 0, 0, 0, 0, 0, 0, 0, 0, 0, 0, 0, 0, 0, 0, 0, 0, 0, 0, 0,\n",
              "       0, 0, 0, 0, 0, 0, 0, 0, 0, 0])"
            ]
          },
          "metadata": {},
          "execution_count": 43
        }
      ]
    },
    {
      "cell_type": "markdown",
      "source": [
        "## Confusion matrices"
      ],
      "metadata": {
        "id": "4AscDU05Vpl7"
      }
    },
    {
      "cell_type": "code",
      "source": [
        "from sklearn.metrics import confusion_matrix\n",
        "\n",
        "print('Confusion matrix for dummy classifier')\n",
        "confusion_matrix(y_test,y_dummy_pred)"
      ],
      "metadata": {
        "colab": {
          "base_uri": "https://localhost:8080/"
        },
        "id": "2ImqKzjeVr0o",
        "outputId": "91bfb3bb-2477-4fa8-9bdd-5cb4d8a54ee2"
      },
      "execution_count": null,
      "outputs": [
        {
          "output_type": "stream",
          "name": "stdout",
          "text": [
            "Confusion matrix for dummy classifier\n"
          ]
        },
        {
          "output_type": "execute_result",
          "data": {
            "text/plain": [
              "array([[407,   0],\n",
              "       [ 43,   0]])"
            ]
          },
          "metadata": {},
          "execution_count": 44
        }
      ]
    },
    {
      "cell_type": "code",
      "source": [
        "print('Confusion matrix for dummy classifier stratified')\n",
        "\n",
        "dclf = DummyClassifier(strategy='stratified').fit(X_train,y_train)\n",
        "y_pred=dclf.predict(X_test)\n",
        "confusion_matrix(y_test,y_pred)"
      ],
      "metadata": {
        "colab": {
          "base_uri": "https://localhost:8080/"
        },
        "id": "v1Sl2_uxXIMN",
        "outputId": "13b7bd3d-daba-431d-fcff-745dbc6ca935"
      },
      "execution_count": null,
      "outputs": [
        {
          "output_type": "stream",
          "name": "stdout",
          "text": [
            "Confusion matrix for dummy classifier stratified\n"
          ]
        },
        {
          "output_type": "execute_result",
          "data": {
            "text/plain": [
              "array([[368,  39],\n",
              "       [ 39,   4]])"
            ]
          },
          "metadata": {},
          "execution_count": 45
        }
      ]
    },
    {
      "cell_type": "code",
      "source": [
        "print('SVM linear kernel')\n",
        "y_pred_lins=clfls.predict(X_test)\n",
        "confusion_matrix(y_test,y_pred_lins)"
      ],
      "metadata": {
        "colab": {
          "base_uri": "https://localhost:8080/"
        },
        "id": "vc0JpRKmXn3B",
        "outputId": "581d84e1-198c-440c-d463-177af60dd883"
      },
      "execution_count": null,
      "outputs": [
        {
          "output_type": "stream",
          "name": "stdout",
          "text": [
            "SVM linear kernel\n"
          ]
        },
        {
          "output_type": "execute_result",
          "data": {
            "text/plain": [
              "array([[402,   5],\n",
              "       [  5,  38]])"
            ]
          },
          "metadata": {},
          "execution_count": 50
        }
      ]
    },
    {
      "cell_type": "code",
      "source": [
        "print('SVM rbf kernel')\n",
        "y_pred_rbf=clf.predict(X_test)\n",
        "confusion_matrix(y_test,y_pred_rbf)"
      ],
      "metadata": {
        "colab": {
          "base_uri": "https://localhost:8080/"
        },
        "id": "1EO8i7j4YTvT",
        "outputId": "9055cfa7-ab18-4bc0-f3d6-de5e96cb4a70"
      },
      "execution_count": null,
      "outputs": [
        {
          "output_type": "stream",
          "name": "stdout",
          "text": [
            "SVM rbf kernel\n"
          ]
        },
        {
          "output_type": "execute_result",
          "data": {
            "text/plain": [
              "array([[407,   0],\n",
              "       [  2,  41]])"
            ]
          },
          "metadata": {},
          "execution_count": 49
        }
      ]
    },
    {
      "cell_type": "code",
      "source": [
        "print('CM for Logistic Regression')\n",
        "y_pred_log=lclf.predict(X_test)\n",
        "confusion_matrix(y_test,y_pred_log)"
      ],
      "metadata": {
        "colab": {
          "base_uri": "https://localhost:8080/"
        },
        "id": "mQ1HemjxYkIr",
        "outputId": "4d022172-2642-4d78-f668-36f5a9c82837"
      },
      "execution_count": null,
      "outputs": [
        {
          "output_type": "stream",
          "name": "stdout",
          "text": [
            "CM for Logistic Regression\n"
          ]
        },
        {
          "output_type": "execute_result",
          "data": {
            "text/plain": [
              "array([[401,   6],\n",
              "       [  8,  35]])"
            ]
          },
          "metadata": {},
          "execution_count": 51
        }
      ]
    },
    {
      "cell_type": "code",
      "source": [
        "print('CM for Decision tree classifier')\n",
        "\n",
        "from sklearn.tree import DecisionTreeClassifier\n",
        "\n",
        "dtclf = DecisionTreeClassifier(max_depth=2).fit(X_train,y_train)\n",
        "y_predict_dt=dtclf.predict(X_test)\n",
        "confusion_matrix(y_test,y_predict_dt)"
      ],
      "metadata": {
        "colab": {
          "base_uri": "https://localhost:8080/"
        },
        "id": "0bVrp5pvZCnn",
        "outputId": "1cf46d51-fd92-4db9-d4cc-61496f327ef1"
      },
      "execution_count": null,
      "outputs": [
        {
          "output_type": "stream",
          "name": "stdout",
          "text": [
            "CM for Decision tree classifier\n"
          ]
        },
        {
          "output_type": "execute_result",
          "data": {
            "text/plain": [
              "array([[400,   7],\n",
              "       [ 17,  26]])"
            ]
          },
          "metadata": {},
          "execution_count": 52
        }
      ]
    },
    {
      "cell_type": "markdown",
      "source": [
        "## Evaluation metrics for Binary Classification"
      ],
      "metadata": {
        "id": "5idp7Or4Z53M"
      }
    },
    {
      "cell_type": "code",
      "source": [
        "from sklearn.metrics import accuracy_score, precision_score, recall_score, f1_score\n",
        "from sklearn.metrics import classification_report"
      ],
      "metadata": {
        "id": "iIDrY_BXZ-sS"
      },
      "execution_count": null,
      "outputs": []
    },
    {
      "cell_type": "code",
      "source": [
        "recall_score(y_test,y_dummy_pred)"
      ],
      "metadata": {
        "colab": {
          "base_uri": "https://localhost:8080/"
        },
        "id": "KmewECPc50NW",
        "outputId": "01145b06-3023-489d-a472-304ad33867ec"
      },
      "execution_count": null,
      "outputs": [
        {
          "output_type": "execute_result",
          "data": {
            "text/plain": [
              "0.0"
            ]
          },
          "metadata": {},
          "execution_count": 77
        }
      ]
    },
    {
      "cell_type": "code",
      "source": [
        "print('Decision Tree')\n",
        "print('Accuracy: {:.2f}' .format(accuracy_score(y_test,y_predict_dt)))\n",
        "print('Precision: {:.2f}' .format(precision_score(y_test,y_predict_dt)))\n",
        "print('Recall: {:.2f}' .format(recall_score(y_test,y_predict_dt)))\n",
        "print('F1 score: {:.2f}' .format(f1_score(y_test,y_predict_dt)))"
      ],
      "metadata": {
        "colab": {
          "base_uri": "https://localhost:8080/"
        },
        "id": "UCbMsCi4atOP",
        "outputId": "a78a268e-50bd-4486-d90c-d9442031ca7d"
      },
      "execution_count": null,
      "outputs": [
        {
          "output_type": "stream",
          "name": "stdout",
          "text": [
            "Decision Tree\n",
            "Accuracy: 0.95\n",
            "Precision: 0.79\n",
            "Recall: 0.60\n",
            "F1 score: 0.68\n"
          ]
        }
      ]
    },
    {
      "cell_type": "code",
      "source": [
        "print('Decision Tree Classification Report')\n",
        "print(classification_report(y_test,y_predict_dt, target_names=['not 1', '1']))"
      ],
      "metadata": {
        "colab": {
          "base_uri": "https://localhost:8080/"
        },
        "id": "-CCyVMbwbf2Q",
        "outputId": "8f010a3d-5543-4ffb-dd70-79a9e30de4a4"
      },
      "execution_count": null,
      "outputs": [
        {
          "output_type": "stream",
          "name": "stdout",
          "text": [
            "Decision Tree Classification Report\n",
            "              precision    recall  f1-score   support\n",
            "\n",
            "       not 1       0.96      0.98      0.97       407\n",
            "           1       0.79      0.60      0.68        43\n",
            "\n",
            "    accuracy                           0.95       450\n",
            "   macro avg       0.87      0.79      0.83       450\n",
            "weighted avg       0.94      0.95      0.94       450\n",
            "\n"
          ]
        }
      ]
    },
    {
      "cell_type": "markdown",
      "source": [
        "Similarly, the classification report for all other classifiers can be generated"
      ],
      "metadata": {
        "id": "patNqLl8dHpa"
      }
    },
    {
      "cell_type": "markdown",
      "source": [
        "## Decision Function\n",
        "\n",
        "It is a measure of how confidently a model predicts a particular class"
      ],
      "metadata": {
        "id": "sKA46K-jg4dB"
      }
    },
    {
      "cell_type": "code",
      "source": [
        "print('Decision function for logistic Regression classifier on the Imbalanced Digits dataset ')\n",
        "y_scores = lclf.decision_function(X_test)\n",
        "\n",
        "y_score_list = list(zip(y_test[0:20], y_scores[0:20]))\n",
        "y_score_list"
      ],
      "metadata": {
        "colab": {
          "base_uri": "https://localhost:8080/"
        },
        "id": "gs9k13ndbxt2",
        "outputId": "42a50936-d636-4a66-e711-047b4e72591b"
      },
      "execution_count": null,
      "outputs": [
        {
          "output_type": "stream",
          "name": "stdout",
          "text": [
            "Decision function for logistic Regression classifier on the Imbalanced Digits dataset \n"
          ]
        },
        {
          "output_type": "execute_result",
          "data": {
            "text/plain": [
              "[(0, -29.82878328087822),\n",
              " (0, -19.38288583307711),\n",
              " (0, -29.198432998384995),\n",
              " (0, -21.746245538875527),\n",
              " (0, -22.642384612784937),\n",
              " (0, -11.805960521881941),\n",
              " (1, 6.4960108327232025),\n",
              " (0, -23.354598022530347),\n",
              " (0, -27.54368035714437),\n",
              " (0, -26.888214744475864),\n",
              " (0, -31.862868620542503),\n",
              " (0, -22.486099276049895),\n",
              " (0, -25.318017965537102),\n",
              " (0, -13.384535017654057),\n",
              " (0, -13.565630801384577),\n",
              " (0, -13.30837101312283),\n",
              " (1, 12.180881034226974),\n",
              " (0, -34.36245353298022),\n",
              " (0, -13.23152929186738),\n",
              " (0, -29.59396551427858)]"
            ]
          },
          "metadata": {},
          "execution_count": 60
        }
      ]
    },
    {
      "cell_type": "markdown",
      "source": [
        "Predict proba"
      ],
      "metadata": {
        "id": "_e_vXF-3h6lq"
      }
    },
    {
      "cell_type": "code",
      "source": [
        "y_prob_score=lclf.predict_proba(X_test)\n",
        "y_prob_list=list(zip(y_test[0:20],y_prob_score[0:20]))\n",
        "y_prob_list"
      ],
      "metadata": {
        "colab": {
          "base_uri": "https://localhost:8080/"
        },
        "id": "i91X9lOCh8Z8",
        "outputId": "0e614da0-df4d-409b-eca7-a75370c17b88"
      },
      "execution_count": null,
      "outputs": [
        {
          "output_type": "execute_result",
          "data": {
            "text/plain": [
              "[(0, array([1.00000000e+00, 1.11051395e-13])),\n",
              " (0, array([9.99999996e-01, 3.82049502e-09])),\n",
              " (0, array([1.00000000e+00, 2.08584325e-13])),\n",
              " (0, array([1.00000000e+00, 3.59522074e-10])),\n",
              " (0, array([1.00000000e+00, 1.46736213e-10])),\n",
              " (0, array([9.99992540e-01, 7.45990423e-06])),\n",
              " (1, array([0.00150717, 0.99849283])),\n",
              " (0, array([1.00000000e+00, 7.19825043e-11])),\n",
              " (0, array([1.00000000e+00, 1.09126848e-12])),\n",
              " (0, array([1.00000000e+00, 2.10182575e-12])),\n",
              " (0, array([1.00000000e+00, 1.45255298e-14])),\n",
              " (0, array([1.00000000e+00, 1.71558075e-10])),\n",
              " (0, array([1.00000000e+00, 1.01047251e-11])),\n",
              " (0, array([9.99998461e-01, 1.53875554e-06])),\n",
              " (0, array([9.99998716e-01, 1.28386938e-06])),\n",
              " (0, array([9.99998339e-01, 1.66053175e-06])),\n",
              " (1, array([5.12753171e-06, 9.99994872e-01])),\n",
              " (0, array([1.00000000e+00, 1.19282311e-15])),\n",
              " (0, array([9.99998207e-01, 1.79316008e-06])),\n",
              " (0, array([1.00000000e+00, 1.40444288e-13]))]"
            ]
          },
          "metadata": {},
          "execution_count": 62
        }
      ]
    },
    {
      "cell_type": "markdown",
      "source": [
        "## Precision Recall curve"
      ],
      "metadata": {
        "id": "IhoSu3HSitb-"
      }
    },
    {
      "cell_type": "code",
      "source": [
        "from sklearn.metrics import precision_recall_curve\n",
        "\n",
        "precision, recall, thresholds = precision_recall_curve(y_test, y_scores)\n",
        "\n",
        "closest_zero = np.argmin(np.abs(thresholds))\n",
        "closest_zero_p = precision[closest_zero]\n",
        "closest_zero_r = recall[closest_zero]\n",
        "\n",
        "plt.figure()\n",
        "plt.xlim([0.0, 1.01])\n",
        "plt.ylim([0.0, 1.01])\n",
        "plt.plot(precision, recall, label='Precision-Recall Curve')\n",
        "plt.plot(closest_zero_p, closest_zero_r, 'o', markersize = 12, fillstyle = 'none', c='r', mew=3)\n",
        "plt.xlabel('Precision', fontsize=16)\n",
        "plt.ylabel('Recall', fontsize=16)\n",
        "#plt.axes().set_aspect('equal')\n",
        "plt.show()"
      ],
      "metadata": {
        "colab": {
          "base_uri": "https://localhost:8080/",
          "height": 457
        },
        "id": "gxn4KoQJif_X",
        "outputId": "cccf1bb6-ded7-45e1-c0f4-2e059c3c6a35"
      },
      "execution_count": null,
      "outputs": [
        {
          "output_type": "display_data",
          "data": {
            "text/plain": [
              "<Figure size 640x480 with 1 Axes>"
            ],
            "image/png": "[encoded data removed]"
          },
          "metadata": {}
        }
      ]
    },
    {
      "cell_type": "code",
      "source": [
        "from sklearn.metrics import precision_recall_curve\n",
        "precision, recall, threshold = precision_recall_curve(y_test,y_scores)\n",
        "\n",
        "plt.figure()\n",
        "plt.plot(precision,recall,label='Precision Recall curve')\n",
        "plt.xlabel('Precision',fontsize=10)\n",
        "plt.ylabel('Recall',fontsize=10)"
      ],
      "metadata": {
        "colab": {
          "base_uri": "https://localhost:8080/",
          "height": 466
        },
        "id": "xyHaxP3Hif77",
        "outputId": "978a75ae-534b-4af6-d132-939f5d96ffc2"
      },
      "execution_count": null,
      "outputs": [
        {
          "output_type": "execute_result",
          "data": {
            "text/plain": [
              "Text(0, 0.5, 'Recall')"
            ]
          },
          "metadata": {},
          "execution_count": 67
        },
        {
          "output_type": "display_data",
          "data": {
            "text/plain": [
              "<Figure size 640x480 with 1 Axes>"
            ],
            "image/png": "[encoded data removed]"
          },
          "metadata": {}
        }
      ]
    },
    {
      "cell_type": "markdown",
      "source": [
        "## ROC and AUC"
      ],
      "metadata": {
        "id": "M0pv5pUFmcYh"
      }
    },
    {
      "cell_type": "code",
      "source": [
        "from sklearn.metrics import roc_curve, auc"
      ],
      "metadata": {
        "id": "jLrpBYuLyo-k"
      },
      "execution_count": null,
      "outputs": []
    },
    {
      "cell_type": "code",
      "source": [
        "fpr_lr, tpr_lr, _ = roc_curve(y_test, y_scores)\n",
        "roc_auc_lr = auc(fpr_lr, tpr_lr)\n",
        "\n",
        "plt.figure()\n",
        "plt.plot(fpr_lr,tpr_lr)\n",
        "plt.xlim([-0.01, 1.00])\n",
        "plt.ylim([-0.01, 1.01])\n",
        "plt.plot(fpr_lr, tpr_lr, lw=3, label='LogRegr ROC curve (area = {:0.2f})'.format(roc_auc_lr))\n",
        "plt.xlabel('False Positive Rate', fontsize=16)\n",
        "plt.ylabel('True Positive Rate', fontsize=16)\n",
        "plt.title('ROC curve (1-of-10 digits classifier)', fontsize=16)\n",
        "plt.legend(loc='lower right', fontsize=13)\n",
        "plt.plot([0, 1], [0, 1], color='navy', lw=3, linestyle='--')"
      ],
      "metadata": {
        "colab": {
          "base_uri": "https://localhost:8080/",
          "height": 497
        },
        "id": "qA0d4Vx1yo7H",
        "outputId": "02fd2ea6-ad13-414f-a5c6-4dd8f570606e"
      },
      "execution_count": null,
      "outputs": [
        {
          "output_type": "execute_result",
          "data": {
            "text/plain": [
              "[<matplotlib.lines.Line2D at 0x7d087b1299c0>]"
            ]
          },
          "metadata": {},
          "execution_count": 74
        },
        {
          "output_type": "display_data",
          "data": {
            "text/plain": [
              "<Figure size 640x480 with 1 Axes>"
            ],
            "image/png": "[encoded data removed]"
          },
          "metadata": {}
        }
      ]
    }
  ]
}